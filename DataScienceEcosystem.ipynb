{
 "cells": [
  {
   "cell_type": "markdown",
   "id": "21f9510f-324e-45a2-8d91-574ea90fbab7",
   "metadata": {},
   "source": [
    "# Data Science Tools and Ecosystem"
   ]
  },
  {
   "cell_type": "markdown",
   "id": "95b49120-a7c7-49d6-8f4c-de15cce5a91d",
   "metadata": {},
   "source": [
    "In this notebook, Data Science Tools and Ecosystem are summarized."
   ]
  },
  {
   "cell_type": "markdown",
   "id": "ab9f9ea5-c9bc-46da-8fe0-0bce4a8c3144",
   "metadata": {},
   "source": [
    "Some of the popular languages that Data Scientists use are:\n",
    " 1. PYTHON\n",
    " 2. R\n",
    " 3. SCALA\n",
    " 4. JAVA\n",
    " 5. SQL\n",
    " 6. JULIA "
   ]
  },
  {
   "cell_type": "markdown",
   "id": "524918e8-b8ed-41e8-9f33-8f884a283603",
   "metadata": {},
   "source": [
    "|Data Science Tools|\n",
    "|------------------|\n",
    "|Jupyter Notebooks|\n",
    "|Zeppelin Notebooks|\n",
    "|R Studio’s|"
   ]
  },
  {
   "cell_type": "markdown",
   "id": "a96af932-7ced-4403-b9e2-3b4e6757a5d8",
   "metadata": {},
   "source": [
    "### Below are a few examples of evaluating arithmetic expressions in Python"
   ]
  },
  {
   "cell_type": "markdown",
   "id": "eed2a5e0-1901-44f0-b716-624bf348bf37",
   "metadata": {},
   "source": [
    "This a simple arithmetic expression to multiply then add integers"
   ]
  },
  {
   "cell_type": "code",
   "execution_count": 20,
   "id": "5bc1b79c-e279-40a3-a24a-b4f0eb866c45",
   "metadata": {},
   "outputs": [
    {
     "data": {
      "text/plain": [
       "17"
      ]
     },
     "execution_count": 20,
     "metadata": {},
     "output_type": "execute_result"
    }
   ],
   "source": [
    "(3*4)+5"
   ]
  },
  {
   "cell_type": "markdown",
   "id": "437798fa-35f9-4bfd-85f7-5139490ec052",
   "metadata": {},
   "source": [
    "This will convert 200 minutes to hours by diving by 60"
   ]
  },
  {
   "cell_type": "code",
   "execution_count": 25,
   "id": "74be0ccf-834e-4412-8f28-c77cf5b5314c",
   "metadata": {},
   "outputs": [
    {
     "data": {
      "text/plain": [
       "3.3333333333333335"
      ]
     },
     "execution_count": 25,
     "metadata": {},
     "output_type": "execute_result"
    }
   ],
   "source": [
    "200/60"
   ]
  },
  {
   "cell_type": "markdown",
   "id": "80581587-19c5-43ff-a337-a0e574487dcc",
   "metadata": {},
   "source": [
    "# Objectives:"
   ]
  },
  {
   "cell_type": "markdown",
   "id": "28478505-5d36-44dd-8ce3-ca97d7f75a9c",
   "metadata": {},
   "source": [
    "***unordered list:*** \n",
    " - popular languages that Data Scientists\n",
    " - list data science libraries\n",
    " - Data Science tools\n",
    " - arithmetic expression examples\n",
    " - convert minutes to hours"
   ]
  },
  {
   "cell_type": "markdown",
   "id": "93e1f8d3-8ad0-4219-a58d-d7db65b30c39",
   "metadata": {},
   "source": [
    "## Author\n",
    "\n",
    "   RAHUL  RAJESHBHAI RAJPUT"
   ]
  },
  {
   "cell_type": "code",
   "execution_count": null,
   "id": "3823358f-b165-4bd9-808b-55ea2abca867",
   "metadata": {},
   "outputs": [],
   "source": []
  }
 ],
 "metadata": {
  "kernelspec": {
   "display_name": "anaconda-panel-2023.05-py310",
   "language": "python",
   "name": "conda-env-anaconda-panel-2023.05-py310-py"
  },
  "language_info": {
   "codemirror_mode": {
    "name": "ipython",
    "version": 3
   },
   "file_extension": ".py",
   "mimetype": "text/x-python",
   "name": "python",
   "nbconvert_exporter": "python",
   "pygments_lexer": "ipython3",
   "version": "3.11.5"
  }
 },
 "nbformat": 4,
 "nbformat_minor": 5
}
